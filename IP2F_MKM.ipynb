{
 "cells": [
  {
   "cell_type": "markdown",
   "id": "fcfb769c",
   "metadata": {},
   "source": [
    "# Individual Project 2 \n",
    "## McKenzee Masters\n",
    "## DS160-01\n",
    "## Version 1"
   ]
  },
  {
   "cell_type": "markdown",
   "id": "90db9cb6",
   "metadata": {},
   "source": [
    "### Part A"
   ]
  },
  {
   "cell_type": "code",
   "execution_count": 4,
   "id": "480d719e",
   "metadata": {},
   "outputs": [
    {
     "data": {
      "text/plain": [
       "array([10, 20, 30, 40])"
      ]
     },
     "execution_count": 4,
     "metadata": {},
     "output_type": "execute_result"
    }
   ],
   "source": [
    "import numpy as np\n",
    "array=np.arange(10,50,10)\n",
    "array"
   ]
  },
  {
   "cell_type": "code",
   "execution_count": 5,
   "id": "59e8f1bb",
   "metadata": {},
   "outputs": [
    {
     "data": {
      "text/plain": [
       "array([[10, 20],\n",
       "       [30, 40]])"
      ]
     },
     "execution_count": 5,
     "metadata": {},
     "output_type": "execute_result"
    }
   ],
   "source": [
    "array.resize(2,2)\n",
    "array"
   ]
  },
  {
   "cell_type": "code",
   "execution_count": 9,
   "id": "6578e410",
   "metadata": {},
   "outputs": [
    {
     "name": "stdout",
     "output_type": "stream",
     "text": [
      "[[ 100  400]\n",
      " [ 900 1600]]\n"
     ]
    }
   ],
   "source": [
    "sq=(array**2)\n",
    "print(sq)"
   ]
  },
  {
   "cell_type": "code",
   "execution_count": 10,
   "id": "35c8fd69",
   "metadata": {},
   "outputs": [
    {
     "name": "stdout",
     "output_type": "stream",
     "text": [
      "[[ 200  500]\n",
      " [1000 1700]]\n"
     ]
    }
   ],
   "source": [
    "hd=(sq+100)\n",
    "print(hd)"
   ]
  },
  {
   "cell_type": "code",
   "execution_count": 11,
   "id": "7514a879",
   "metadata": {},
   "outputs": [
    {
     "name": "stdout",
     "output_type": "stream",
     "text": [
      "[[1000 2500]\n",
      " [5000 8500]]\n"
     ]
    }
   ],
   "source": [
    "five=(hd*5)\n",
    "print(five)"
   ]
  },
  {
   "cell_type": "code",
   "execution_count": 13,
   "id": "7bcc8372",
   "metadata": {},
   "outputs": [
    {
     "name": "stdout",
     "output_type": "stream",
     "text": [
      "[[32. 50.]\n",
      " [71. 92.]]\n"
     ]
    }
   ],
   "source": [
    "sqrt=(np.round(np.sqrt(five)))\n",
    "print(sqrt)"
   ]
  },
  {
   "cell_type": "markdown",
   "id": "0189ed2d",
   "metadata": {},
   "source": [
    "### Part B"
   ]
  },
  {
   "cell_type": "code",
   "execution_count": 49,
   "id": "313a99dc",
   "metadata": {},
   "outputs": [
    {
     "name": "stdout",
     "output_type": "stream",
     "text": [
      "[[ 3  6  9]\n",
      " [12 15 18]\n",
      " [21 24 27]]\n"
     ]
    }
   ],
   "source": [
    "array1=np.arange(3,28,3)\n",
    "array1.resize(3,3)\n",
    "print(array1)"
   ]
  },
  {
   "cell_type": "code",
   "execution_count": 48,
   "id": "096b51b5",
   "metadata": {},
   "outputs": [
    {
     "name": "stdout",
     "output_type": "stream",
     "text": [
      "[[10.   11.25 12.5 ]\n",
      " [13.75 15.   16.25]\n",
      " [17.5  18.75 20.  ]]\n"
     ]
    }
   ],
   "source": [
    "array2=np.linspace(10,20,9)\n",
    "array2.resize(3,3)\n",
    "print(array2)"
   ]
  },
  {
   "cell_type": "code",
   "execution_count": 50,
   "id": "876eb1b8",
   "metadata": {},
   "outputs": [
    {
     "name": "stdout",
     "output_type": "stream",
     "text": [
      "[[ 30.   67.5 112.5]\n",
      " [165.  225.  292.5]\n",
      " [367.5 450.  540. ]]\n"
     ]
    }
   ],
   "source": [
    "array3=array1*array2\n",
    "print(array3)"
   ]
  },
  {
   "cell_type": "markdown",
   "id": "29e3928e",
   "metadata": {},
   "source": [
    "### Part C"
   ]
  },
  {
   "cell_type": "code",
   "execution_count": 52,
   "id": "0849a4e3",
   "metadata": {},
   "outputs": [],
   "source": [
    "a=np.load(\"process1.npy\")\n",
    "b=np.load(\"process2.npy\")\n",
    "c=np.load(\"process3.npy\")\n",
    "d=np.load(\"process4.npy\")\n",
    "e=np.load(\"process5.npy\")"
   ]
  },
  {
   "cell_type": "code",
   "execution_count": 54,
   "id": "7005ce1a",
   "metadata": {},
   "outputs": [
    {
     "name": "stdout",
     "output_type": "stream",
     "text": [
      "[[52 12 81  0 58]\n",
      " [96  4 61 16 43]\n",
      " [38 96 45 17 58]\n",
      " [97 21 22 25  6]\n",
      " [77  6 19  2 74]]\n"
     ]
    }
   ],
   "source": [
    "array11=np.vstack([a,b,c,d,e])\n",
    "print(array11)"
   ]
  },
  {
   "cell_type": "code",
   "execution_count": 55,
   "id": "77f537e0",
   "metadata": {},
   "outputs": [
    {
     "name": "stdout",
     "output_type": "stream",
     "text": [
      "Mean of Columns [72. 28. 46. 12. 48.]\n"
     ]
    }
   ],
   "source": [
    "print(\"Mean of Columns\", np.round(array11.mean(axis=0)) )"
   ]
  },
  {
   "cell_type": "code",
   "execution_count": null,
   "id": "f85f80b4",
   "metadata": {},
   "outputs": [],
   "source": []
  }
 ],
 "metadata": {
  "kernelspec": {
   "display_name": "Python 3 (ipykernel)",
   "language": "python",
   "name": "python3"
  },
  "language_info": {
   "codemirror_mode": {
    "name": "ipython",
    "version": 3
   },
   "file_extension": ".py",
   "mimetype": "text/x-python",
   "name": "python",
   "nbconvert_exporter": "python",
   "pygments_lexer": "ipython3",
   "version": "3.9.12"
  }
 },
 "nbformat": 4,
 "nbformat_minor": 5
}
